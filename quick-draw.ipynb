{
 "cells": [
  {
   "cell_type": "code",
   "execution_count": 63,
   "id": "6b733370-d1d1-46cf-ab9c-e3650031dfa1",
   "metadata": {},
   "outputs": [
    {
     "name": "stdout",
     "output_type": "stream",
     "text": [
      "mkdir: cannot create directory ‘./tmp’: File exists\n",
      "--2022-07-04 20:17:24--  https://raw.githubusercontent.com/finiteloopme/quick-draw/main/categories/requested.txt\n",
      "Resolving raw.githubusercontent.com (raw.githubusercontent.com)... 185.199.108.133, 185.199.109.133, 185.199.110.133, ...\n",
      "Connecting to raw.githubusercontent.com (raw.githubusercontent.com)|185.199.108.133|:443... connected.\n",
      "HTTP request sent, awaiting response... 200 OK\n",
      "Length: 759 [text/plain]\n",
      "Saving to: ‘requested.txt.1’\n",
      "\n",
      "requested.txt.1     100%[===================>]     759  --.-KB/s    in 0s      \n",
      "\n",
      "2022-07-04 20:17:24 (57.9 MB/s) - ‘requested.txt.1’ saved [759/759]\n",
      "\n",
      "mkdir: cannot create directory ‘./data’: File exists\n"
     ]
    }
   ],
   "source": [
    "!mkdir ./tmp; cd ./tmp; wget \"https://raw.githubusercontent.com/finiteloopme/quick-draw/main/categories/requested.txt\"\n",
    "!mkdir ./data\n",
    "!mkdir ./model"
   ]
  },
  {
   "cell_type": "code",
   "execution_count": 40,
   "id": "1e7fed7a-a41e-49a9-8143-c3cbe94e5228",
   "metadata": {},
   "outputs": [],
   "source": [
    "def process_categories():\n",
    "    f_categories = open(\"./tmp/requested.txt\", \"r\")\n",
    "    # Read each category from a line in the file\n",
    "    categories = f_categories.readlines()\n",
    "    # Remove newline char and replace SPACE with UNDERSCORE\n",
    "    categories = [category.replace(\"\\n\", \"\").replace(\" \", \"_\") for category in categories]\n",
    "    f_categories.close()\n",
    "    return categories\n",
    "# pre_process_categories()"
   ]
  },
  {
   "cell_type": "code",
   "execution_count": 41,
   "id": "20be4a27-9283-464d-b0de-a7e03c0d5ce8",
   "metadata": {},
   "outputs": [],
   "source": [
    "from urllib import request\n",
    "def download_data(categories):\n",
    "    base_url = \"https://storage.googleapis.com/quickdraw_dataset/full/numpy_bitmap/\"\n",
    "    for category in categories:\n",
    "        category_uri = category.replace(\"_\", \"%20\") + \".npy\"\n",
    "        request.urlretrieve(base_url+category_uri, \"./data/\"+category+\".npy\")"
   ]
  },
  {
   "cell_type": "code",
   "execution_count": 42,
   "id": "9b34296e-a811-4314-b4dc-d860ee6260e6",
   "metadata": {},
   "outputs": [],
   "source": [
    "download_data(process_categories())"
   ]
  },
  {
   "cell_type": "code",
   "execution_count": 43,
   "id": "d42928c8-19c1-45b5-a566-6aa2b1bd19b8",
   "metadata": {},
   "outputs": [],
   "source": [
    "import os\n",
    "import glob\n",
    "import numpy as np\n",
    "from tensorflow.keras import layers\n",
    "from tensorflow import keras \n",
    "import tensorflow as tf"
   ]
  },
  {
   "cell_type": "code",
   "execution_count": 46,
   "id": "0e222d2e-c507-43b3-925c-ab5c528e8196",
   "metadata": {},
   "outputs": [],
   "source": [
    "def load_data(root, vfold_ratio=0.2, max_items_per_class= 4000 ):\n",
    "    all_files = glob.glob(os.path.join(root, '*.npy'))\n",
    "\n",
    "    #initialize variables \n",
    "    x = np.empty([0, 784])\n",
    "    y = np.empty([0])\n",
    "    class_names = []\n",
    "\n",
    "    #load each data file \n",
    "    for idx, file in enumerate(all_files):\n",
    "        data = np.load(file)\n",
    "        data = data[0: max_items_per_class, :]\n",
    "        labels = np.full(data.shape[0], idx)\n",
    "\n",
    "        x = np.concatenate((x, data), axis=0)\n",
    "        y = np.append(y, labels)\n",
    "\n",
    "        class_name, ext = os.path.splitext(os.path.basename(file))\n",
    "        class_names.append(class_name)\n",
    "\n",
    "    data = None\n",
    "    labels = None\n",
    "    \n",
    "    #randomize the dataset \n",
    "    permutation = np.random.permutation(y.shape[0])\n",
    "    x = x[permutation, :]\n",
    "    y = y[permutation]\n",
    "\n",
    "    #separate into training and testing \n",
    "    vfold_size = int(x.shape[0]/100*(vfold_ratio*100))\n",
    "\n",
    "    x_test = x[0:vfold_size, :]\n",
    "    y_test = y[0:vfold_size]\n",
    "\n",
    "    x_train = x[vfold_size:x.shape[0], :]\n",
    "    y_train = y[vfold_size:y.shape[0]]\n",
    "    return x_train, y_train, x_test, y_test, class_names"
   ]
  },
  {
   "cell_type": "code",
   "execution_count": 47,
   "id": "d67a6495-5cf2-4833-b3aa-e9c06cf73661",
   "metadata": {},
   "outputs": [],
   "source": [
    "x_train, y_train, x_test, y_test, class_names = load_data('./data')\n",
    "num_classes = len(class_names)\n",
    "image_size = 28"
   ]
  },
  {
   "cell_type": "code",
   "execution_count": 48,
   "id": "cb648456-3497-429c-9a38-6194cbfc13b5",
   "metadata": {},
   "outputs": [
    {
     "name": "stdout",
     "output_type": "stream",
     "text": [
      "320000\n"
     ]
    }
   ],
   "source": [
    "print(len(x_train))"
   ]
  },
  {
   "cell_type": "code",
   "execution_count": 51,
   "id": "c48f32ec-cc58-4dd6-815b-041d06c57c9f",
   "metadata": {},
   "outputs": [
    {
     "name": "stdout",
     "output_type": "stream",
     "text": [
      "laptop\n"
     ]
    },
    {
     "data": {
      "image/png": "[encoded data removed]",
      "text/plain": [
       "<Figure size 432x288 with 1 Axes>"
      ]
     },
     "metadata": {
      "needs_background": "light"
     },
     "output_type": "display_data"
    }
   ],
   "source": [
    "import matplotlib.pyplot as plt\n",
    "from random import randint\n",
    "%matplotlib inline  \n",
    "idx = randint(0, len(x_train))\n",
    "plt.imshow(x_train[idx].reshape(28,28)) \n",
    "print(class_names[int(y_train[idx].item())])"
   ]
  },
  {
   "cell_type": "code",
   "execution_count": 53,
   "id": "a55acaf6-92cf-4e48-b08d-37f5b03ba39c",
   "metadata": {},
   "outputs": [],
   "source": [
    "# Reshape and normalize\n",
    "x_train = x_train.reshape(x_train.shape[0], image_size, image_size, 1).astype('float32')\n",
    "x_test = x_test.reshape(x_test.shape[0], image_size, image_size, 1).astype('float32')\n",
    "\n",
    "x_train /= 255.0\n",
    "x_test /= 255.0\n",
    "\n",
    "# Convert class vectors to class matrices\n",
    "y_train = keras.utils.to_categorical(y_train, num_classes)\n",
    "y_test = keras.utils.to_categorical(y_test, num_classes)"
   ]
  },
  {
   "cell_type": "code",
   "execution_count": 55,
   "id": "e4a67367-5872-44fd-ac92-e4bdaac1c0ab",
   "metadata": {},
   "outputs": [
    {
     "name": "stdout",
     "output_type": "stream",
     "text": [
      "Model: \"sequential_2\"\n",
      "_________________________________________________________________\n",
      " Layer (type)                Output Shape              Param #   \n",
      "=================================================================\n",
      " conv2d_4 (Conv2D)           (None, 28, 28, 16)        160       \n",
      "                                                                 \n",
      " max_pooling2d_3 (MaxPooling  (None, 14, 14, 16)       0         \n",
      " 2D)                                                             \n",
      "                                                                 \n",
      " conv2d_5 (Conv2D)           (None, 14, 14, 32)        4640      \n",
      "                                                                 \n",
      " max_pooling2d_4 (MaxPooling  (None, 7, 7, 32)         0         \n",
      " 2D)                                                             \n",
      "                                                                 \n",
      " conv2d_6 (Conv2D)           (None, 7, 7, 64)          18496     \n",
      "                                                                 \n",
      " max_pooling2d_5 (MaxPooling  (None, 3, 3, 64)         0         \n",
      " 2D)                                                             \n",
      "                                                                 \n",
      " flatten_1 (Flatten)         (None, 576)               0         \n",
      "                                                                 \n",
      " dense_2 (Dense)             (None, 128)               73856     \n",
      "                                                                 \n",
      " dense_3 (Dense)             (None, 100)               12900     \n",
      "                                                                 \n",
      "=================================================================\n",
      "Total params: 110,052\n",
      "Trainable params: 110,052\n",
      "Non-trainable params: 0\n",
      "_________________________________________________________________\n",
      "None\n"
     ]
    }
   ],
   "source": [
    "# Define model\n",
    "model = keras.Sequential()\n",
    "model.add(layers.Convolution2D(16, (3, 3),\n",
    "                        padding='same',\n",
    "                        input_shape=x_train.shape[1:], activation='relu'))\n",
    "model.add(layers.MaxPooling2D(pool_size=(2, 2)))\n",
    "model.add(layers.Convolution2D(32, (3, 3), padding='same', activation= 'relu'))\n",
    "model.add(layers.MaxPooling2D(pool_size=(2, 2)))\n",
    "model.add(layers.Convolution2D(64, (3, 3), padding='same', activation= 'relu'))\n",
    "model.add(layers.MaxPooling2D(pool_size =(2,2)))\n",
    "model.add(layers.Flatten())\n",
    "model.add(layers.Dense(128, activation='relu'))\n",
    "model.add(layers.Dense(100, activation='softmax')) \n",
    "# Train model\n",
    "# adam = tf.train.AdamOptimizer()\n",
    "model.compile(loss='categorical_crossentropy',\n",
    "              # optimizer=adam,\n",
    "              optimizer=tf.keras.optimizers.Adam(),\n",
    "              metrics=['top_k_categorical_accuracy'])\n",
    "print(model.summary())"
   ]
  },
  {
   "cell_type": "code",
   "execution_count": 56,
   "id": "644bb77e-7332-4d61-a8fb-dc9911f21f1a",
   "metadata": {},
   "outputs": [
    {
     "name": "stdout",
     "output_type": "stream",
     "text": [
      "Epoch 1/5\n",
      "1125/1125 - 92s - loss: 1.9067 - top_k_categorical_accuracy: 0.7844 - val_loss: 1.3940 - val_top_k_categorical_accuracy: 0.8741 - 92s/epoch - 81ms/step\n",
      "Epoch 2/5\n",
      "1125/1125 - 82s - loss: 1.2435 - top_k_categorical_accuracy: 0.8929 - val_loss: 1.1538 - val_top_k_categorical_accuracy: 0.9014 - 82s/epoch - 73ms/step\n",
      "Epoch 3/5\n",
      "1125/1125 - 85s - loss: 1.0796 - top_k_categorical_accuracy: 0.9105 - val_loss: 1.0733 - val_top_k_categorical_accuracy: 0.9124 - 85s/epoch - 75ms/step\n",
      "Epoch 4/5\n",
      "1125/1125 - 86s - loss: 0.9895 - top_k_categorical_accuracy: 0.9202 - val_loss: 0.9913 - val_top_k_categorical_accuracy: 0.9188 - 86s/epoch - 76ms/step\n",
      "Epoch 5/5\n",
      "1125/1125 - 86s - loss: 0.9284 - top_k_categorical_accuracy: 0.9260 - val_loss: 0.9503 - val_top_k_categorical_accuracy: 0.9232 - 86s/epoch - 76ms/step\n"
     ]
    },
    {
     "data": {
      "text/plain": [
       "<keras.callbacks.History at 0x7efbe2e4d250>"
      ]
     },
     "execution_count": 56,
     "metadata": {},
     "output_type": "execute_result"
    }
   ],
   "source": [
    "# training\n",
    "model.fit(x = x_train, y = y_train, validation_split=0.1, batch_size = 256, verbose=2, epochs=5)"
   ]
  },
  {
   "cell_type": "code",
   "execution_count": 57,
   "id": "86bedc64-a8ff-49e7-a8c9-700592f3fa57",
   "metadata": {},
   "outputs": [
    {
     "name": "stdout",
     "output_type": "stream",
     "text": [
      "Test accuarcy: 92.32%\n"
     ]
    }
   ],
   "source": [
    "# testing\n",
    "score = model.evaluate(x_test, y_test, verbose=0)\n",
    "print('Test accuarcy: {:0.2f}%'.format(score[1] * 100))"
   ]
  },
  {
   "cell_type": "code",
   "execution_count": 58,
   "id": "73835af6-718a-4b3d-8fe1-88f43d36956d",
   "metadata": {},
   "outputs": [
    {
     "name": "stdout",
     "output_type": "stream",
     "text": [
      "1/1 [==============================] - 0s 112ms/step\n",
      "['hat', 'helmet', 'moustache', 'bread', 'laptop']\n"
     ]
    },
    {
     "data": {
      "image/png": "[encoded data removed]",
      "text/plain": [
       "<Figure size 432x288 with 1 Axes>"
      ]
     },
     "metadata": {
      "needs_background": "light"
     },
     "output_type": "display_data"
    }
   ],
   "source": [
    "# Inference\n",
    "import matplotlib.pyplot as plt\n",
    "from random import randint\n",
    "%matplotlib inline  \n",
    "idx = randint(0, len(x_test))\n",
    "img = x_test[idx]\n",
    "plt.imshow(img.squeeze()) \n",
    "pred = model.predict(np.expand_dims(img, axis=0))[0]\n",
    "ind = (-pred).argsort()[:5]\n",
    "latex = [class_names[x] for x in ind]\n",
    "print(latex)"
   ]
  },
  {
   "cell_type": "code",
   "execution_count": 59,
   "id": "7f239937-f139-41dc-b0a8-0466c09e6cd1",
   "metadata": {},
   "outputs": [],
   "source": [
    "with open('modelled.txt', 'w') as file_handler:\n",
    "    for item in class_names:\n",
    "        file_handler.write(\"{}\\n\".format(item))"
   ]
  },
  {
   "cell_type": "code",
   "execution_count": null,
   "id": "4ce23733-8346-4dff-aadd-a3e86a961b4c",
   "metadata": {},
   "outputs": [],
   "source": [
    "!pip install tensorflowjs "
   ]
  },
  {
   "cell_type": "code",
   "execution_count": 64,
   "id": "0c1a3747-dbdf-4100-baac-7f22062cc166",
   "metadata": {},
   "outputs": [],
   "source": [
    "# Save model\n",
    "model.save('keras.h5')"
   ]
  },
  {
   "cell_type": "code",
   "execution_count": 65,
   "id": "ce09fea8-79f6-4701-ada6-0dbaff7a38f9",
   "metadata": {},
   "outputs": [],
   "source": [
    "!tensorflowjs_converter --input_format keras keras.h5 ./model/"
   ]
  },
  {
   "cell_type": "code",
   "execution_count": 66,
   "id": "f5747864-5d2c-4f2e-8bc3-2a216fc5f78b",
   "metadata": {},
   "outputs": [
    {
     "name": "stderr",
     "output_type": "stream",
     "text": [
      "WARNING:absl:Found untraced functions such as _jit_compiled_convolution_op, _jit_compiled_convolution_op, _jit_compiled_convolution_op while saving (showing 3 of 3). These functions will not be directly callable after loading.\n"
     ]
    },
    {
     "name": "stdout",
     "output_type": "stream",
     "text": [
      "INFO:tensorflow:Assets written to: /tmp/tmp12iux06p/assets\n"
     ]
    },
    {
     "name": "stderr",
     "output_type": "stream",
     "text": [
      "INFO:tensorflow:Assets written to: /tmp/tmp12iux06p/assets\n",
      "2022-07-04 20:22:53.248280: W tensorflow/compiler/mlir/lite/python/tf_tfl_flatbuffer_helpers.cc:362] Ignored output_format.\n",
      "2022-07-04 20:22:53.248333: W tensorflow/compiler/mlir/lite/python/tf_tfl_flatbuffer_helpers.cc:365] Ignored drop_control_dependency.\n",
      "2022-07-04 20:22:53.249309: I tensorflow/cc/saved_model/reader.cc:43] Reading SavedModel from: /tmp/tmp12iux06p\n",
      "2022-07-04 20:22:53.252057: I tensorflow/cc/saved_model/reader.cc:81] Reading meta graph with tags { serve }\n",
      "2022-07-04 20:22:53.252086: I tensorflow/cc/saved_model/reader.cc:122] Reading SavedModel debug info (if present) from: /tmp/tmp12iux06p\n",
      "2022-07-04 20:22:53.254507: I tensorflow/core/common_runtime/process_util.cc:146] Creating new thread pool with default inter op setting: 2. Tune using inter_op_parallelism_threads for best performance.\n",
      "2022-07-04 20:22:53.260491: I tensorflow/compiler/mlir/mlir_graph_optimization_pass.cc:354] MLIR V1 optimization pass is not enabled\n",
      "2022-07-04 20:22:53.262138: I tensorflow/cc/saved_model/loader.cc:228] Restoring SavedModel bundle.\n",
      "2022-07-04 20:22:53.340647: I tensorflow/cc/saved_model/loader.cc:212] Running initialization op on SavedModel bundle at path: /tmp/tmp12iux06p\n",
      "2022-07-04 20:22:53.362688: I tensorflow/cc/saved_model/loader.cc:301] SavedModel load for tags { serve }; Status: success: OK. Took 113382 microseconds.\n",
      "2022-07-04 20:22:53.413725: I tensorflow/compiler/mlir/tensorflow/utils/dump_mlir_util.cc:263] disabling MLIR crash reproducer, set env var `MLIR_CRASH_REPRODUCER_DIRECTORY` to enable.\n",
      "2022-07-04 20:22:53.471893: I tensorflow/core/common_runtime/process_util.cc:146] Creating new thread pool with default inter op setting: 2. Tune using inter_op_parallelism_threads for best performance.\n"
     ]
    }
   ],
   "source": [
    "# Convert the model to TFlite for use with Flutter.\n",
    "converter = tf.lite.TFLiteConverter.from_keras_model(model)\n",
    "tflite_model = converter.convert()\n",
    "\n",
    "# Save the model.\n",
    "with open('model.tflite', 'wb') as f:\n",
    "  f.write(tflite_model)"
   ]
  },
  {
   "cell_type": "code",
   "execution_count": null,
   "id": "0ed80c30-e07d-489d-ba21-4a52ec5a4736",
   "metadata": {},
   "outputs": [],
   "source": []
  }
 ],
 "metadata": {
  "environment": {
   "kernel": "python3",
   "name": "tf2-gpu.2-9.m94",
   "type": "gcloud",
   "uri": "gcr.io/deeplearning-platform-release/tf2-gpu.2-9:m94"
  },
  "kernelspec": {
   "display_name": "Python 3",
   "language": "python",
   "name": "python3"
  },
  "language_info": {
   "codemirror_mode": {
    "name": "ipython",
    "version": 3
   },
   "file_extension": ".py",
   "mimetype": "text/x-python",
   "name": "python",
   "nbconvert_exporter": "python",
   "pygments_lexer": "ipython3",
   "version": "3.7.12"
  }
 },
 "nbformat": 4,
 "nbformat_minor": 5
}
