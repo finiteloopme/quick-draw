{
 "cells": [
  {
   "cell_type": "markdown",
   "id": "21f18f03",
   "metadata": {},
   "source": [
    "# Set up the dev environment"
   ]
  },
  {
   "cell_type": "code",
   "execution_count": null,
   "id": "dff1ed06-ad60-467e-b359-ebf3093aca75",
   "metadata": {},
   "outputs": [],
   "source": [
    "# Basic setup\n",
    "# Import required libraries\n",
    "import kfp\n",
    "from kfp.v2 import compiler\n",
    "from kfp.v2.dsl import pipeline, component, Dataset, Input, Output\n",
    "from google.cloud import aiplatform\n",
    "from google_cloud_pipeline_components import aiplatform as gcc_aip\n",
    "# Environment config\n",
    "PROJECT_ID=\"\"\n",
    "GCP_REGION=\"us-central1\"\n",
    "BUCKET_NAME=\"\"\n",
    "PIPELINE_ROOT=\"\"\n",
    "CATEGORIES_TO_PROCESS=[\"\"]\n",
    "\n",
    "def env_setup():\n",
    "    from google.cloud import storage\n",
    "    from datetime import datetime\n",
    "    import os\n",
    "    import sys\n",
    "    \n",
    "    # project_id = os.environ[\"GCP_PROJECT\"]\n",
    "    system_out = !gcloud config get project\n",
    "    project_id = system_out[0]\n",
    "    # Check project ID is set\n",
    "    if not (project_id==\"\" or project_id.strip()==\"\"):\n",
    "        # Project ID is set\n",
    "        print(\"Using project: \" + project_id)\n",
    "        time_stamp = datetime.now().strftime(\"%Y%m%d%H%M%S\")\n",
    "        BUCKET_NAME=project_id + \"-qd\"\n",
    "        gcs_client = storage.Client()\n",
    "        bucket = gcs_client.bucket(BUCKET_NAME)\n",
    "        # Check if the GCS bucket already exists\n",
    "        if bucket.exists()==False:\n",
    "            # Doesn't exist, so create one\n",
    "            print(\"Creating bucket: \" + BUCKET_NAME)\n",
    "            bucket.create()\n",
    "        # Set the pipeline root for vertex AI\n",
    "        PIPELINE_ROOT = f\"{BUCKET_NAME}/{time_stamp}/pipeline-root/\"\n",
    "        print(\"Pipeline root is: \" + PIPELINE_ROOT)\n",
    "    else:\n",
    "        # Exit with error that project ID has not been configured\n",
    "        sys.exit(\"Set project using `gcloud config set project [project-id]`\")\n",
    "    return\n",
    "\n",
    "env_setup()\n",
    "\n",
    "def enable_notebook_autocompletion():\n",
    "    !pip install jupyter_contrib_nbextensions\n",
    "    !jupyter contrib nbextension install - user\n",
    "    from jedi import settings\n",
    "    settings.case_insensitive_completion = True\n",
    "    return\n",
    "#enable_notebook_autocompletion()"
   ]
  },
  {
   "cell_type": "code",
   "execution_count": null,
   "id": "d3bfb252",
   "metadata": {},
   "outputs": [],
   "source": [
    "@component(\n",
    "    packages_to_install=[\n",
    "        \"google-cloud-storage\",\n",
    "        \"pandas\",\n",
    "    ],\n",
    "    base_image=\"python:3.9\",\n",
    "    output_component_file=\"preprocess_drawings.yaml\"\n",
    ")\n",
    "def preprocess_drawings(\n",
    "    project=project_id,\n",
    "    display_name=\"categories\",\n",
    "    categories=CATEGORIES_TO_PROCESS,\n",
    "    \n",
    "    for category in categories:\n",
    "        \n",
    "):\n",
    "    \n",
    "    return\n",
    "# preprocess_drawings()"
   ]
  }
 ],
 "metadata": {
  "environment": {
   "kernel": "python3",
   "name": "tf2-gpu.2-9.m94",
   "type": "gcloud",
   "uri": "gcr.io/deeplearning-platform-release/tf2-gpu.2-9:m94"
  },
  "kernelspec": {
   "display_name": "Python 3",
   "language": "python",
   "name": "python3"
  },
  "language_info": {
   "codemirror_mode": {
    "name": "ipython",
    "version": 3
   },
   "file_extension": ".py",
   "mimetype": "text/x-python",
   "name": "python",
   "nbconvert_exporter": "python",
   "pygments_lexer": "ipython3",
   "version": "3.7.12"
  }
 },
 "nbformat": 4,
 "nbformat_minor": 5
}
